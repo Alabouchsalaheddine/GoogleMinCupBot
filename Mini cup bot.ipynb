{
 "cells": [
  {
   "cell_type": "markdown",
   "id": "1affa6b7",
   "metadata": {},
   "source": [
    "# How to make a bot to make your team first on the Google's Mini Cup game"
   ]
  },
  {
   "cell_type": "markdown",
   "id": "19fdc375",
   "metadata": {},
   "source": [
    "On the occasion of the World Cup, Google made a Doodle game nicknamed Mini Cup"
   ]
  },
  {
   "cell_type": "markdown",
   "id": "74ce05be",
   "metadata": {},
   "source": [
    "You can play the game by searching up an upcoming match or searching up “World Cup.” on Google. You might see a blue circle with a football inscribed in it on the bottom left corner of your device."
   ]
  },
  {
   "cell_type": "markdown",
   "id": "f97ffc5b",
   "metadata": {},
   "source": [
    "When you click the blue square, you’ll get to a list of games you can play. You can also click left on the Results tab, where you can see how finished matches turned out. You can also click right to the Standings tab to see which nation is first in goals scored.\n",
    "\n"
   ]
  },
  {
   "cell_type": "markdown",
   "id": "c97805c6",
   "metadata": {},
   "source": [
    "![title](images/capture1.png)"
   ]
  },
  {
   "cell_type": "markdown",
   "id": "5bd76437",
   "metadata": {},
   "source": [
    "![title](images/capture2.png)"
   ]
  },
  {
   "cell_type": "markdown",
   "id": "1be82d60",
   "metadata": {},
   "source": [
    "## Can we make a bot to play instead of us ?"
   ]
  },
  {
   "cell_type": "markdown",
   "id": "d5d0dfd6",
   "metadata": {},
   "source": [
    "The answer is Yes. We can make a bot that will play instead of us, and we can make it in two ways"
   ]
  },
  {
   "cell_type": "markdown",
   "id": "db09b3e4",
   "metadata": {},
   "source": [
    "### The first method"
   ]
  },
  {
   "cell_type": "markdown",
   "id": "5aa73569",
   "metadata": {},
   "source": [
    "You can use a python library called PyAutoGUI (available at the following link : https://pyautogui.readthedocs.io/en/latest/) and automate the drag the ball gesture"
   ]
  },
  {
   "cell_type": "markdown",
   "id": "19dd002f",
   "metadata": {},
   "source": [
    "But that is not, the way we will make our bot today, because the second method is more efficient"
   ]
  },
  {
   "cell_type": "markdown",
   "id": "b1c4a045",
   "metadata": {},
   "source": [
    "### The second method"
   ]
  },
  {
   "cell_type": "markdown",
   "id": "1e091eee",
   "metadata": {},
   "source": [
    "The second method is to play a game while seeing what happen's in the network on your browser when you finish a game"
   ]
  },
  {
   "cell_type": "markdown",
   "id": "7cebdc10",
   "metadata": {},
   "source": [
    "You will see that an HTTP request goes from your terminal to the Mini Cup API in order to increment the number of goals"
   ]
  },
  {
   "cell_type": "markdown",
   "id": "8533a8da",
   "metadata": {},
   "source": [
    "![title](images/capture3.png)"
   ]
  },
  {
   "cell_type": "markdown",
   "id": "3448959a",
   "metadata": {},
   "source": [
    "![title](images/capture4.png)"
   ]
  },
  {
   "cell_type": "markdown",
   "id": "aa678fc2",
   "metadata": {},
   "source": [
    "You can try to repeat this request many times per second, in order to increment the number of goals for your favorite team"
   ]
  },
  {
   "cell_type": "markdown",
   "id": "9dd5073c",
   "metadata": {},
   "source": [
    "Here is a Python code you cun run multiple times (You should change the ID to the ID of your favorite team)"
   ]
  },
  {
   "cell_type": "code",
   "execution_count": 3,
   "id": "e1e80b1c",
   "metadata": {},
   "outputs": [
    {
     "name": "stdout",
     "output_type": "stream",
     "text": [
      "b')]}\\'\\n\\n[null,null,null,[[1,\"4308ed5d-33b2-42c3-adff-ae414ea6a7af\"],[1,\"0b9660ee-c0d9-409f-8d80-1e597a1e2409\"],[1,\"b5406162-0964-43df-9b55-569882832276\"],[1,\"e6c4bad0-2dd6-4354-90ff-3bbc98ea7b00\"],[1,\"36588e6e-2db5-42e0-b43e-bcc29c2068d9\"],[1,\"5f24d8af-144a-4ef4-8982-ff842e30cc3a\"],[1,\"93c9d62c-815f-4a1c-85d1-83caf3fe01ac\"],[1,\"48c89187-f6bf-4ce7-8949-5978f7779937\"],[1,\"85e958bd-213d-40ac-9807-b539df6210a3\"],[1,\"cddd2ce1-ec7a-470a-b23f-828828e09a9b\"],[1,\"4c7841e7-f9a3-4298-a2c5-f03e99162212\"],[1,\"a9f7b710-822c-4205-8abe-2add24401b84\"],[1,\"9d5ec764-5cbe-4b0e-88bd-4f77f66cf85a\"],[1,\"d15588af-c09c-4ba7-9530-ac92184afcf3\"],[1,\"73dc50a2-a410-494b-89fc-66e0179297c0\"],[1,\"f490da0b-0527-41c3-a564-55198028d7c9\"],[1,\"2b6b3c0e-d0bb-4360-9ead-ae3a1d9e5bba\"],[1,\"dce8b6b8-094d-4939-a262-ed75249f8683\"],[1,\"13503983-aacf-43b7-9340-6e33c7796633\"],[1,\"d8758dfa-d440-45eb-9fbb-0bec89025db6\"],[1,\"18d3916a-c731-4fd5-ba55-e39a295b5fb4\"],[1,\"80e8af0b-b0f6-4c86-9341-d7b5996e465c\"],[1,\"52566c47-8c76-4ee0-8730-c27fdb2f8515\"],[1,\"dea289fa-de02-4199-86a7-6e570ba1c162\"],[1,\"a16c6912-f061-4df5-96b8-7c5a35a68a16\"],[1,\"3168f9e8-9921-413d-be95-4dfd38bcde08\"],[1,\"d664588c-9304-40f4-a570-81bc8d376e94\"],[1,\"552e2752-12c1-461e-b7ef-3fc72fb64045\"],[1,\"c5f58c94-3c20-4fa2-9111-cb56e46e5a33\"],[1,\"187a950f-6546-48d1-acf8-3867936dbc67\"],[1,\"d4bfde3b-5743-467b-9f85-733ed3a8fbb3\"],[1,\"16e4a9cb-5dfb-427a-bec5-90a9c7b33bd3\"],[1,\"6154632e-1edb-4b1e-b3c1-2ddf3f451d64\"],[1,\"fb3e5236-030e-419d-a269-193cc31da440\"],[1,\"be5dfa56-071c-4204-822a-1def6368171e\"],[1,\"210de6cf-bf8e-43cd-8b11-9b6c82db2b8f\"],[1,\"ab83b06f-1456-49e9-b19a-7bad534d37cc\"],[1,\"f9e59218-fab8-42df-affd-b243c27bd3a3\"],[1,\"adcd5a07-21ce-446c-a0b4-4ec65a7db1a8\"],[1,\"74d74f2c-5599-4a7b-8166-b931e147a7b2\"],[1,\"5222a5f8-5383-466d-b9ba-882fd79a28c8\"],[1,\"87ab99df-8cb8-4daa-8496-955a9bb7d169\"],[1,\"7ab19b57-fce2-4879-a12a-9ea3ae55ffdb\"],[1,\"c6d86477-6b6c-46d6-9626-8742a105ff60\"],[1,\"99d9821b-0d62-487f-b0e7-18fe2a2728cc\"],[1,\"98d4669a-583d-41d8-a817-ee277748fa71\"],[1,\"f4eb4a7c-7aa5-4172-b2d7-7f04c5372ceb\"],[1,\"4c989de2-880a-4b87-909f-9689b57b1f4c\"],[1,\"1439d95c-e9ec-4eae-bf3a-481ad6fd7e5f\"],[1,\"63f8cfd9-d803-493f-b381-08b02004a09f\"],[1,\"bedffe79-7781-4bd9-a95c-8cd8eff3dbf0\"],[1,\"580d0a78-7248-4de7-909b-e1c3ec42129d\"],[1,\"b81ac7f5-d41b-4d32-9393-681925377c47\"],[1,\"719c3373-6bd7-4c97-a13e-4ffab772366c\"],[1,\"ae2ac137-4add-4891-b302-ff59327a30a9\"],[1,\"5db0afbd-33f6-4b15-95dc-a4e136a784ef\"],[1,\"079d6d56-d208-460f-b441-40b5b415282d\"],[1,\"8c67fd8a-c1e1-4205-8645-3502beee88d3\"],[1,\"cd403902-915e-431a-b4f8-f68d4e3d7dcd\"],[1,\"27b85e41-0878-4bdf-a48e-283657b68c3c\"],[1,\"a02ed637-4282-48c9-84b7-6a092e0e566d\"],[1,\"60adcad8-4fc9-44e0-b6ce-e63f838af6aa\"],[1,\"6037421c-ddc0-4619-a423-b3cd0748a78c\"],[1,\"82beb447-970e-439f-ba9d-fce55b54387e\"],[1,\"0a43bf31-418b-4956-887a-db47b0d3c0bf\"],[1,\"57259ae1-26db-4bf6-9974-3e067f68b6f6\"],[1,\"f25a42b3-d034-4db2-a571-40126d144fd8\"],[1,\"ab8714f7-e5b9-42ef-8022-d575d94826f0\"],[1,\"3d5f8f02-06e8-4a4b-82b1-0275fc86f3c1\"],[1,\"30a5a335-1927-4690-9431-ce20bda0e673\"],[1,\"9f5d9bc4-ad59-4bfc-92f7-2b81c1fd9867\"],[1,\"0f872ae6-48e7-40ef-a63b-cb1fd8184699\"],[1,\"4a410764-9c0c-48d4-8077-7ccb5b7c8e80\"]]]'\n"
     ]
    }
   ],
   "source": [
    "import requests\n",
    "def playMinicup() :\n",
    "  url = \"https://www.google.com/httpservice/retry/DelightCounterService/IncrementCounter?cs=0&fmt=jspb&xsrf=AHeE6r1jPx6EjUsxOUhfVdGJh3-7A7mbMA:1669495427651&msc=gwsrpc\"\n",
    "\n",
    "  payload = '''[null,null,null,null,[[\\\"WORLD_CUP_MMO_MATCHES\\\",\\\"/g/11rq1z3ddq_/m/03_9hm\\\",1],[\\\"WORLD_CUP_MMO_MATCHES\\\",\\\"/g/11rq1z3ddq_/m/03_9hm\\\",1],[\\\"WORLD_CUP_MMO_MATCHES\\\",\\\"/g/11rq1z3ddq_/m/03_9hm\\\",1],[\\\"WORLD_CUP_MMO_MATCHES\\\",\\\"/g/11rq1z3ddq_/m/03_9hm\\\",1],[\\\"WORLD_CUP_MMO_MATCHES\\\",\\\"/g/11rq1z3ddq_/m/03_9hm\\\",1],[\\\"WORLD_CUP_MMO_MATCHES\\\",\\\"/g/11rq1z3ddq_/m/03_9hm\\\",1],[\\\"WORLD_CUP_MMO_MATCHES\\\",\\\"/g/11rq1z3ddq_/m/03_9hm\\\",1],[\\\"WORLD_CUP_MMO_MATCHES\\\",\\\"/g/11rq1z3ddq_/m/03_9hm\\\",1],[\\\"WORLD_CUP_MMO_MATCHES\\\",\\\"/g/11rq1z3ddq_/m/03_9hm\\\",1],[\\\"WORLD_CUP_MMO_MATCHES\\\",\\\"/g/11rq1z3ddq_/m/03_9hm\\\",1],[\\\"WORLD_CUP_MMO_MATCHES\\\",\\\"/g/11rq1z3ddq_/m/03_9hm\\\",1],[\\\"WORLD_CUP_MMO_MATCHES\\\",\\\"/g/11rq1z3ddq_/m/03_9hm\\\",1],[\\\"WORLD_CUP_MMO_MATCHES\\\",\\\"/g/11rq1z3ddq_/m/03_9hm\\\",1],[\\\"WORLD_CUP_MMO_MATCHES\\\",\\\"/g/11rq1z3ddq_/m/03_9hm\\\",1],[\\\"WORLD_CUP_MMO_MATCHES\\\",\\\"/g/11rq1z3ddq_/m/03_9hm\\\",1],[\\\"WORLD_CUP_MMO_MATCHES\\\",\\\"/g/11rq1z3ddq_/m/03_9hm\\\",1],[\\\"WORLD_CUP_MMO_MATCHES\\\",\\\"/g/11rq1z3ddq_/m/03_9hm\\\",1],[\\\"WORLD_CUP_MMO_MATCHES\\\",\\\"/g/11rq1z3ddq_/m/03_9hm\\\",1],[\\\"WORLD_CUP_MMO_MATCHES\\\",\\\"/g/11rq1z3ddq_/m/03_9hm\\\",1],[\\\"WORLD_CUP_MMO_MATCHES\\\",\\\"/g/11rq1z3ddq_/m/03_9hm\\\",1],[\\\"WORLD_CUP_MMO_MATCHES\\\",\\\"/g/11rq1z3ddq_/m/03_9hm\\\",1],[\\\"WORLD_CUP_MMO_MATCHES\\\",\\\"/g/11rq1z3ddq_/m/03_9hm\\\",1],[\\\"WORLD_CUP_MMO_MATCHES\\\",\\\"/g/11rq1z3ddq_/m/03_9hm\\\",1],[\\\"WORLD_CUP_MMO_MATCHES\\\",\\\"/g/11rq1z3ddq_/m/03_9hm\\\",1],[\\\"WORLD_CUP_MMO_MATCHES\\\",\\\"/g/11rq1z3ddq_/m/03_9hm\\\",1],[\\\"WORLD_CUP_MMO_MATCHES\\\",\\\"/g/11rq1z3ddq_/m/03_9hm\\\",1],[\\\"WORLD_CUP_MMO_MATCHES\\\",\\\"/g/11rq1z3ddq_/m/03_9hm\\\",1],[\\\"WORLD_CUP_MMO_MATCHES\\\",\\\"/g/11rq1z3ddq_/m/03_9hm\\\",1],[\\\"WORLD_CUP_MMO_MATCHES\\\",\\\"/g/11rq1z3ddq_/m/03_9hm\\\",1],[\\\"WORLD_CUP_MMO_MATCHES\\\",\\\"/g/11rq1z3ddq_/m/03_9hm\\\",1],[\\\"WORLD_CUP_MMO_MATCHES\\\",\\\"/g/11rq1z3ddq_/m/03_9hm\\\",1],[\\\"WORLD_CUP_MMO_MATCHES\\\",\\\"/g/11rq1z3ddq_/m/03_9hm\\\",1],[\\\"WORLD_CUP_MMO_MATCHES\\\",\\\"/g/11rq1z3ddq_/m/03_9hm\\\",1],[\\\"WORLD_CUP_MMO_MATCHES\\\",\\\"/g/11rq1z3ddq_/m/03_9hm\\\",1],[\\\"WORLD_CUP_MMO_MATCHES\\\",\\\"/g/11rq1z3ddq_/m/03_9hm\\\",1],[\\\"WORLD_CUP_MMO_MATCHES\\\",\\\"/g/11rq1z3ddq_/m/03_9hm\\\",1],[\\\"WORLD_CUP_MMO_MATCHES\\\",\\\"/g/11rq1z3ddq_/m/03_9hm\\\",1],[\\\"WORLD_CUP_MMO_MATCHES\\\",\\\"/g/11rq1z3ddq_/m/03_9hm\\\",1],[\\\"WORLD_CUP_MMO_MATCHES\\\",\\\"/g/11rq1z3ddq_/m/03_9hm\\\",1],[\\\"WORLD_CUP_MMO_MATCHES\\\",\\\"/g/11rq1z3ddq_/m/03_9hm\\\",1],[\\\"WORLD_CUP_MMO_MATCHES\\\",\\\"/g/11rq1z3ddq_/m/03_9hm\\\",1],[\\\"WORLD_CUP_MMO_MATCHES\\\",\\\"/g/11rq1z3ddq_/m/03_9hm\\\",1],[\\\"WORLD_CUP_MMO_MATCHES\\\",\\\"/g/11rq1z3ddq_/m/03_9hm\\\",1],[\\\"WORLD_CUP_MMO_MATCHES\\\",\\\"/g/11rq1z3ddq_/m/03_9hm\\\",1],[\\\"WORLD_CUP_MMO_MATCHES\\\",\\\"/g/11rq1z3ddq_/m/03_9hm\\\",1],[\\\"WORLD_CUP_MMO_MATCHES\\\",\\\"/g/11rq1z3ddq_/m/03_9hm\\\",1],[\\\"WORLD_CUP_MMO_MATCHES\\\",\\\"/g/11rq1z3ddq_/m/03_9hm\\\",1],[\\\"WORLD_CUP_MMO_MATCHES\\\",\\\"/g/11rq1z3ddq_/m/03_9hm\\\",1],[\\\"WORLD_CUP_MMO_MATCHES\\\",\\\"/g/11rq1z3ddq_/m/03_9hm\\\",1],[\\\"WORLD_CUP_MMO_MATCHES\\\",\\\"/g/11rq1z3ddq_/m/03_9hm\\\",1],[\\\"WORLD_CUP_MMO_MATCHES\\\",\\\"/g/11rq1z3ddq_/m/03_9hm\\\",1],[\\\"WORLD_CUP_MMO_MATCHES\\\",\\\"/g/11rq1z3ddq_/m/03_9hm\\\",1],[\\\"WORLD_CUP_MMO_MATCHES\\\",\\\"/g/11rq1z3ddq_/m/03_9hm\\\",1],[\\\"WORLD_CUP_MMO_MATCHES\\\",\\\"/g/11rq1z3ddq_/m/03_9hm\\\",1],[\\\"WORLD_CUP_MMO_MATCHES\\\",\\\"/g/11rq1z3ddq_/m/03_9hm\\\",1],[\\\"WORLD_CUP_MMO_MATCHES\\\",\\\"/g/11rq1z3ddq_/m/03_9hm\\\",1],[\\\"WORLD_CUP_MMO_MATCHES\\\",\\\"/g/11rq1z3ddq_/m/03_9hm\\\",1],[\\\"WORLD_CUP_MMO_MATCHES\\\",\\\"/g/11rq1z3ddq_/m/03_9hm\\\",1],[\\\"WORLD_CUP_MMO_MATCHES\\\",\\\"/g/11rq1z3ddq_/m/03_9hm\\\",1],[\\\"WORLD_CUP_MMO_MATCHES\\\",\\\"/g/11rq1z3ddq_/m/03_9hm\\\",1],[\\\"WORLD_CUP_MMO_MATCHES\\\",\\\"/g/11rq1z3ddq_/m/03_9hm\\\",1],[\\\"WORLD_CUP_MMO_MATCHES\\\",\\\"/g/11rq1z3ddq_/m/03_9hm\\\",1],[\\\"WORLD_CUP_MMO_MATCHES\\\",\\\"/g/11rq1z3ddq_/m/03_9hm\\\",1],[\\\"WORLD_CUP_MMO_MATCHES\\\",\\\"/g/11rq1z3ddq_/m/03_9hm\\\",1],[\\\"WORLD_CUP_MMO_MATCHES\\\",\\\"/g/11rq1z3ddq_/m/03_9hm\\\",1],[\\\"WORLD_CUP_MMO_MATCHES\\\",\\\"/g/11rq1z3ddq_/m/03_9hm\\\",1],[\\\"WORLD_CUP_MMO_MATCHES\\\",\\\"/g/11rq1z3ddq_/m/03_9hm\\\",1],[\\\"WORLD_CUP_MMO_MATCHES\\\",\\\"/g/11rq1z3ddq_/m/03_9hm\\\",1],[\\\"WORLD_CUP_MMO_MATCHES\\\",\\\"/g/11rq1z3ddq_/m/03_9hm\\\",1],[\\\"WORLD_CUP_MMO_MATCHES\\\",\\\"/g/11rq1z3ddq_/m/03_9hm\\\",1],[\\\"WORLD_CUP_MMO_MATCHES\\\",\\\"/g/11rq1z3ddq_/m/03_9hm\\\",1],[\\\"WORLD_CUP_MMO_MATCHES\\\",\\\"/g/11rq1z3ddq_/m/03_9hm\\\",1],[\\\"WORLD_CUP_MMO_MATCHES\\\",\\\"/g/11rq1z3ddq_/m/03_9hm\\\",1]]]'''\n",
    "  headers = {\n",
    "    \"accept\": \"*/*\",\n",
    "    \"accept-language\": \"fr\",\n",
    "    \"content-type\": \"application/x-www-form-urlencoded;charset=UTF-8\",\n",
    "    \"sec-ch-ua\": \"\\\"Google Chrome\\\";v=\\\"107\\\", \\\"Chromium\\\";v=\\\"107\\\", \\\"Not=A?Brand\\\";v=\\\"24\\\"\",\n",
    "    \"sec-ch-ua-arch\": \"\",\n",
    "    \"sec-ch-ua-bitness\": \"\\\"64\\\"\",\n",
    "    \"sec-ch-ua-full-version\": \"\\\"107.0.5304.107\\\"\",\n",
    "    \"sec-ch-ua-full-version-list\": \"\\\"Google Chrome\\\";v=\\\"107.0.5304.107\\\", \\\"Chromium\\\";v=\\\"107.0.5304.107\\\", \\\"Not=A?Brand\\\";v=\\\"24.0.0.0\\\"\",\n",
    "    \"sec-ch-ua-mobile\": \"?1\",\n",
    "    \"sec-ch-ua-model\": \"\\\"Pixel 5\\\"\",\n",
    "    \"sec-ch-ua-platform\": \"\\\"Android\\\"\",\n",
    "    \"sec-ch-ua-platform-version\": \"\\\"11\\\"\",\n",
    "    \"sec-ch-ua-wow64\": \"?0\",\n",
    "    \"sec-fetch-dest\": \"empty\",\n",
    "    \"sec-fetch-mode\": \"cors\",\n",
    "    \"sec-fetch-site\": \"same-origin\",\n",
    "    \"cookie\": \"AEC=XXXXXXXXXXXXXXXXXXXXXXXXXXXXXXXXXXXXXXXXXX; CONSENT=PENDING+884; SOCS=XXXXXXXXXXXXXXXXXXXXXXXXXXXXXXXXXXx; OTZ=XXXXXXXXXXXXXXXXXXXXXXXXXXXXXXX; __Secure-ENID=8.SE=XXXXXXXXXXXXXXXXXXXXXXXXXXXXXXXXXXXXXXXXXXXXXXXXXXXXXXXXXXXXXXXX; DV=XXXXXXXXXXXXXXXXXXXXXXXXXXXXX\",\n",
    "    \"Referer\": \"https://www.google.com/\",\n",
    "    \"Referrer-Policy\": \"origin\"\n",
    "  }\n",
    "\n",
    "  response = requests.request(\"POST\", url, headers=headers, data=payload)\n",
    "\n",
    "  print(response.content)\n",
    "while True :\n",
    "  playMinicup()"
   ]
  }
 ],
 "metadata": {
  "kernelspec": {
   "display_name": "Python 3",
   "language": "python",
   "name": "python3"
  },
  "language_info": {
   "codemirror_mode": {
    "name": "ipython",
    "version": 3
   },
   "file_extension": ".py",
   "mimetype": "text/x-python",
   "name": "python",
   "nbconvert_exporter": "python",
   "pygments_lexer": "ipython3",
   "version": "3.7.3"
  }
 },
 "nbformat": 4,
 "nbformat_minor": 5
}
